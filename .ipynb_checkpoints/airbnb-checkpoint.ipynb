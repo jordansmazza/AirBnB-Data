{
 "cells": [
  {
   "cell_type": "code",
   "execution_count": 100,
   "metadata": {},
   "outputs": [
    {
     "data": {
      "text/html": [
       "<div>\n",
       "<style scoped>\n",
       "    .dataframe tbody tr th:only-of-type {\n",
       "        vertical-align: middle;\n",
       "    }\n",
       "\n",
       "    .dataframe tbody tr th {\n",
       "        vertical-align: top;\n",
       "    }\n",
       "\n",
       "    .dataframe thead th {\n",
       "        text-align: right;\n",
       "    }\n",
       "</style>\n",
       "<table border=\"1\" class=\"dataframe\">\n",
       "  <thead>\n",
       "    <tr style=\"text-align: right;\">\n",
       "      <th></th>\n",
       "      <th>NAME</th>\n",
       "      <th>GEO_ID</th>\n",
       "      <th>COUNTRY</th>\n",
       "      <th>LATITUDE</th>\n",
       "      <th>LONGITUDE</th>\n",
       "      <th>TYPE</th>\n",
       "      <th>ACCOM</th>\n",
       "      <th>BATH</th>\n",
       "      <th>ROOMS</th>\n",
       "      <th>BEDS</th>\n",
       "      <th>PRICE</th>\n",
       "    </tr>\n",
       "  </thead>\n",
       "  <tbody>\n",
       "    <tr>\n",
       "      <th>0</th>\n",
       "      <td>Luxurious &amp; spacecious apartm. with garden 6sleep</td>\n",
       "      <td>NL</td>\n",
       "      <td>Netherlands</td>\n",
       "      <td>52.361173</td>\n",
       "      <td>4.866755</td>\n",
       "      <td>Entire home/apt</td>\n",
       "      <td>6</td>\n",
       "      <td>1.0</td>\n",
       "      <td>2.0</td>\n",
       "      <td>6.0</td>\n",
       "      <td>$145.00</td>\n",
       "    </tr>\n",
       "    <tr>\n",
       "      <th>1</th>\n",
       "      <td>Great app near Jordaan +2 bikes</td>\n",
       "      <td>NL</td>\n",
       "      <td>Netherlands</td>\n",
       "      <td>52.370237</td>\n",
       "      <td>4.859507</td>\n",
       "      <td>Entire home/apt</td>\n",
       "      <td>2</td>\n",
       "      <td>1.0</td>\n",
       "      <td>1.0</td>\n",
       "      <td>1.0</td>\n",
       "      <td>$88.00</td>\n",
       "    </tr>\n",
       "    <tr>\n",
       "      <th>2</th>\n",
       "      <td>Trendy apartment, near Vondelpark</td>\n",
       "      <td>NL</td>\n",
       "      <td>Netherlands</td>\n",
       "      <td>52.362016</td>\n",
       "      <td>4.866872</td>\n",
       "      <td>Entire home/apt</td>\n",
       "      <td>2</td>\n",
       "      <td>1.0</td>\n",
       "      <td>1.0</td>\n",
       "      <td>1.0</td>\n",
       "      <td>$130.00</td>\n",
       "    </tr>\n",
       "    <tr>\n",
       "      <th>3</th>\n",
       "      <td>Modern apartment in Amsterdam West</td>\n",
       "      <td>NL</td>\n",
       "      <td>Netherlands</td>\n",
       "      <td>52.365826</td>\n",
       "      <td>4.858178</td>\n",
       "      <td>Entire home/apt</td>\n",
       "      <td>4</td>\n",
       "      <td>1.0</td>\n",
       "      <td>2.0</td>\n",
       "      <td>3.0</td>\n",
       "      <td>$110.00</td>\n",
       "    </tr>\n",
       "    <tr>\n",
       "      <th>4</th>\n",
       "      <td>(Balcony with) canal view Oud-West</td>\n",
       "      <td>NL</td>\n",
       "      <td>Netherlands</td>\n",
       "      <td>52.364179</td>\n",
       "      <td>4.864885</td>\n",
       "      <td>Entire home/apt</td>\n",
       "      <td>2</td>\n",
       "      <td>1.0</td>\n",
       "      <td>1.0</td>\n",
       "      <td>1.0</td>\n",
       "      <td>$115.00</td>\n",
       "    </tr>\n",
       "  </tbody>\n",
       "</table>\n",
       "</div>"
      ],
      "text/plain": [
       "                                                NAME GEO_ID      COUNTRY  \\\n",
       "0  Luxurious & spacecious apartm. with garden 6sleep     NL  Netherlands   \n",
       "1                    Great app near Jordaan +2 bikes     NL  Netherlands   \n",
       "2                  Trendy apartment, near Vondelpark     NL  Netherlands   \n",
       "3                 Modern apartment in Amsterdam West     NL  Netherlands   \n",
       "4                 (Balcony with) canal view Oud-West     NL  Netherlands   \n",
       "\n",
       "    LATITUDE  LONGITUDE             TYPE  ACCOM  BATH  ROOMS  BEDS     PRICE  \n",
       "0  52.361173   4.866755  Entire home/apt      6   1.0    2.0   6.0  $145.00   \n",
       "1  52.370237   4.859507  Entire home/apt      2   1.0    1.0   1.0   $88.00   \n",
       "2  52.362016   4.866872  Entire home/apt      2   1.0    1.0   1.0  $130.00   \n",
       "3  52.365826   4.858178  Entire home/apt      4   1.0    2.0   3.0  $110.00   \n",
       "4  52.364179   4.864885  Entire home/apt      2   1.0    1.0   1.0  $115.00   "
      ]
     },
     "execution_count": 100,
     "metadata": {},
     "output_type": "execute_result"
    }
   ],
   "source": [
    "import pandas as pd\n",
    "import numpy as np\n",
    "import matplotlib.pyplot as plt\n",
    "import seaborn as sns\n",
    "%matplotlib inline\n",
    "\n",
    "\n",
    "amsterdam = pd.read_csv('/Users/jordanmazza/Desktop/Udacity/GitHub/airbnb/amsterdam_listings.csv',\n",
    "                        encoding='ISO-8859-1')\n",
    "barcelona = pd.read_csv('/Users/jordanmazza/Desktop/Udacity/GitHub/airbnb/barcelona_listings.csv',\n",
    "                        encoding='ISO-8859-1')\n",
    "berlin = pd.read_csv('/Users/jordanmazza/Desktop/Udacity/GitHub/airbnb/berlin_listings.csv', encoding='ISO-8859-1')\n",
    "dublin = pd.read_csv('/Users/jordanmazza/Desktop/Udacity/GitHub/airbnb/dublin_listings.csv', encoding='ISO-8859-1')\n",
    "london = pd.read_csv('/Users/jordanmazza/Desktop/Udacity/GitHub/airbnb/london_listings.csv', encoding='ISO-8859-1')\n",
    "paris = pd.read_csv('/Users/jordanmazza/Desktop/Udacity/GitHub/airbnb/paris_listings.csv', encoding='ISO-8859-1')\n",
    "rome = pd.read_csv('/Users/jordanmazza/Desktop/Udacity/GitHub/airbnb/rome_listings.csv', encoding='ISO-8859-1')\n",
    "venice = pd.read_csv('/Users/jordanmazza/Desktop/Udacity/GitHub/airbnb/venice_listings.csv', encoding='ISO-8859-1')\n",
    "\n",
    "amsterdam.head()"
   ]
  },
  {
   "cell_type": "code",
   "execution_count": 72,
   "metadata": {},
   "outputs": [],
   "source": [
    "list = [amsterdam, barcelona, berlin, dublin, london, paris, rome, venice]\n",
    "for data in list:\n",
    "    data.columns = map(str.lower, data.columns)\n",
    "    "
   ]
  },
  {
   "cell_type": "code",
   "execution_count": 73,
   "metadata": {},
   "outputs": [
    {
     "data": {
      "text/plain": [
       "geo_id       False\n",
       "country      False\n",
       "latitude     False\n",
       "longitude    False\n",
       "type         False\n",
       "accom        False\n",
       "bath          True\n",
       "rooms         True\n",
       "beds          True\n",
       "price        False\n",
       "dtype: bool"
      ]
     },
     "execution_count": 73,
     "metadata": {},
     "output_type": "execute_result"
    }
   ],
   "source": [
    "new = pd.concat(list)\n",
    "df = new.drop(columns = 'name')\n",
    "df.isnull().any()"
   ]
  },
  {
   "cell_type": "code",
   "execution_count": 129,
   "metadata": {},
   "outputs": [
    {
     "name": "stdout",
     "output_type": "stream",
     "text": [
      "<class 'pandas.core.frame.DataFrame'>\n",
      "Int64Index: 200811 entries, 0 to 6026\n",
      "Data columns (total 10 columns):\n",
      " #   Column     Non-Null Count   Dtype  \n",
      "---  ------     --------------   -----  \n",
      " 0   geo_id     200811 non-null  object \n",
      " 1   country    200811 non-null  object \n",
      " 2   latitude   200811 non-null  float64\n",
      " 3   longitude  200811 non-null  float64\n",
      " 4   type       200811 non-null  object \n",
      " 5   accom      200811 non-null  int64  \n",
      " 6   bath       200811 non-null  float64\n",
      " 7   rooms      200811 non-null  float64\n",
      " 8   beds       200811 non-null  float64\n",
      " 9   price      200811 non-null  float64\n",
      "dtypes: float64(6), int64(1), object(3)\n",
      "memory usage: 16.9+ MB\n"
     ]
    }
   ],
   "source": [
    "df.info()"
   ]
  },
  {
   "cell_type": "code",
   "execution_count": 98,
   "metadata": {},
   "outputs": [],
   "source": [
    "df.price = df.price.replace('[\\$,]','',regex=True).astype(float)"
   ]
  },
  {
   "cell_type": "code",
   "execution_count": 117,
   "metadata": {},
   "outputs": [],
   "source": [
    "df.dropna(axis=0, inplace=True)"
   ]
  },
  {
   "cell_type": "code",
   "execution_count": 126,
   "metadata": {},
   "outputs": [
    {
     "data": {
      "text/plain": [
       "0"
      ]
     },
     "execution_count": 126,
     "metadata": {},
     "output_type": "execute_result"
    }
   ],
   "source": [
    "df.beds.isnull().sum()"
   ]
  },
  {
   "cell_type": "code",
   "execution_count": 135,
   "metadata": {},
   "outputs": [
    {
     "data": {
      "image/png": "[encoded data removed]",
      "text/plain": [
       "<Figure size 432x288 with 1 Axes>"
      ]
     },
     "metadata": {
      "needs_background": "light"
     },
     "output_type": "display_data"
    }
   ],
   "source": [
    "price = df.groupby('country', as_index=False)['price'].mean()\n",
    "\n",
    "price.plot(kind='bar', x='country')\n",
    "plt.xticks(rotation=90);"
   ]
  },
  {
   "cell_type": "code",
   "execution_count": null,
   "metadata": {},
   "outputs": [],
   "source": []
  }
 ],
 "metadata": {
  "kernelspec": {
   "display_name": "Python 3",
   "language": "python",
   "name": "python3"
  },
  "language_info": {
   "codemirror_mode": {
    "name": "ipython",
    "version": 3
   },
   "file_extension": ".py",
   "mimetype": "text/x-python",
   "name": "python",
   "nbconvert_exporter": "python",
   "pygments_lexer": "ipython3",
   "version": "3.8.3"
  }
 },
 "nbformat": 4,
 "nbformat_minor": 4
}
